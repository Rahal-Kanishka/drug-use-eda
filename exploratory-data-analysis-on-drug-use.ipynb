{
 "cells": [
  {
   "cell_type": "code",
   "execution_count": 1,
   "id": "ebe89a98",
   "metadata": {
    "_cell_guid": "b1076dfc-b9ad-4769-8c92-a6c4dae69d19",
    "_uuid": "8f2839f25d086af736a60e9eeb907d3b93b6e0e5",
    "execution": {
     "iopub.execute_input": "2023-04-10T03:30:51.575143Z",
     "iopub.status.busy": "2023-04-10T03:30:51.574751Z",
     "iopub.status.idle": "2023-04-10T03:30:52.777133Z",
     "shell.execute_reply": "2023-04-10T03:30:52.776144Z"
    },
    "papermill": {
     "duration": 1.215575,
     "end_time": "2023-04-10T03:30:52.779801",
     "exception": false,
     "start_time": "2023-04-10T03:30:51.564226",
     "status": "completed"
    },
    "tags": []
   },
   "outputs": [],
   "source": [
    "import numpy as np\n",
    "import matplotlib.pylab as plt\n",
    "import matplotlib\n",
    "import pandas as pd\n",
    "import seaborn as sns"
   ]
  },
  {
   "cell_type": "code",
   "execution_count": 2,
   "id": "160bfbef",
   "metadata": {
    "execution": {
     "iopub.execute_input": "2023-04-10T03:30:52.797798Z",
     "iopub.status.busy": "2023-04-10T03:30:52.796914Z",
     "iopub.status.idle": "2023-04-10T03:31:20.848657Z",
     "shell.execute_reply": "2023-04-10T03:31:20.846885Z"
    },
    "papermill": {
     "duration": 28.06381,
     "end_time": "2023-04-10T03:31:20.851695",
     "exception": false,
     "start_time": "2023-04-10T03:30:52.787885",
     "status": "completed"
    },
    "tags": []
   },
   "outputs": [
    {
     "name": "stderr",
     "output_type": "stream",
     "text": [
      "/opt/conda/lib/python3.7/site-packages/IPython/core/interactiveshell.py:3553: DtypeWarning: Columns (2792) have mixed types.Specify dtype option on import or set low_memory=False.\n",
      "  exec(code_obj, self.user_global_ns, self.user_ns)\n"
     ]
    },
    {
     "name": "stdout",
     "output_type": "stream",
     "text": [
      "<class 'pandas.core.frame.DataFrame'>\n",
      "RangeIndex: 58034 entries, 0 to 58033\n",
      "Columns: 2988 entries, QUESTID2 to VEREP\n",
      "dtypes: float64(539), int64(2447), object(2)\n",
      "memory usage: 1.3+ GB\n",
      "None\n"
     ]
    }
   ],
   "source": [
    "drug_data = pd.read_csv('/kaggle/input/national-survey-on-drug-use-and-health-2021/NSDUH_2021_Tab.txt',sep='\\t')\n",
    "print(drug_data.info())"
   ]
  },
  {
   "cell_type": "code",
   "execution_count": 3,
   "id": "e1af320c",
   "metadata": {
    "execution": {
     "iopub.execute_input": "2023-04-10T03:31:20.869945Z",
     "iopub.status.busy": "2023-04-10T03:31:20.869522Z",
     "iopub.status.idle": "2023-04-10T03:31:20.911450Z",
     "shell.execute_reply": "2023-04-10T03:31:20.909643Z"
    },
    "papermill": {
     "duration": 0.054633,
     "end_time": "2023-04-10T03:31:20.914593",
     "exception": false,
     "start_time": "2023-04-10T03:31:20.859960",
     "status": "completed"
    },
    "tags": []
   },
   "outputs": [
    {
     "data": {
      "text/html": [
       "<div>\n",
       "<style scoped>\n",
       "    .dataframe tbody tr th:only-of-type {\n",
       "        vertical-align: middle;\n",
       "    }\n",
       "\n",
       "    .dataframe tbody tr th {\n",
       "        vertical-align: top;\n",
       "    }\n",
       "\n",
       "    .dataframe thead th {\n",
       "        text-align: right;\n",
       "    }\n",
       "</style>\n",
       "<table border=\"1\" class=\"dataframe\">\n",
       "  <thead>\n",
       "    <tr style=\"text-align: right;\">\n",
       "      <th></th>\n",
       "      <th>QUESTID2</th>\n",
       "      <th>FILEDATE</th>\n",
       "      <th>CIGEVER</th>\n",
       "      <th>CIGOFRSM</th>\n",
       "      <th>CIGWILYR</th>\n",
       "      <th>CIGTRY</th>\n",
       "      <th>CIGYFU</th>\n",
       "      <th>CIGMFU</th>\n",
       "      <th>CIGREC</th>\n",
       "      <th>CIG30USE</th>\n",
       "      <th>...</th>\n",
       "      <th>GOVTPROG</th>\n",
       "      <th>INCOME</th>\n",
       "      <th>POVERTY3</th>\n",
       "      <th>PDEN10</th>\n",
       "      <th>COUTYP4</th>\n",
       "      <th>MAIIN102</th>\n",
       "      <th>AIIND102</th>\n",
       "      <th>ANALWT_C</th>\n",
       "      <th>VESTR_C</th>\n",
       "      <th>VEREP</th>\n",
       "    </tr>\n",
       "  </thead>\n",
       "  <tbody>\n",
       "    <tr>\n",
       "      <th>0</th>\n",
       "      <td>10000182</td>\n",
       "      <td>10/06/2022</td>\n",
       "      <td>1</td>\n",
       "      <td>99</td>\n",
       "      <td>99</td>\n",
       "      <td>19</td>\n",
       "      <td>9999</td>\n",
       "      <td>99</td>\n",
       "      <td>1</td>\n",
       "      <td>7</td>\n",
       "      <td>...</td>\n",
       "      <td>1</td>\n",
       "      <td>1</td>\n",
       "      <td>2.0</td>\n",
       "      <td>2</td>\n",
       "      <td>3</td>\n",
       "      <td>2</td>\n",
       "      <td>2</td>\n",
       "      <td>675.130812</td>\n",
       "      <td>40047</td>\n",
       "      <td>1</td>\n",
       "    </tr>\n",
       "    <tr>\n",
       "      <th>1</th>\n",
       "      <td>10001255</td>\n",
       "      <td>10/06/2022</td>\n",
       "      <td>1</td>\n",
       "      <td>99</td>\n",
       "      <td>99</td>\n",
       "      <td>15</td>\n",
       "      <td>9999</td>\n",
       "      <td>99</td>\n",
       "      <td>4</td>\n",
       "      <td>93</td>\n",
       "      <td>...</td>\n",
       "      <td>2</td>\n",
       "      <td>4</td>\n",
       "      <td>3.0</td>\n",
       "      <td>1</td>\n",
       "      <td>1</td>\n",
       "      <td>2</td>\n",
       "      <td>2</td>\n",
       "      <td>12435.513603</td>\n",
       "      <td>40037</td>\n",
       "      <td>2</td>\n",
       "    </tr>\n",
       "    <tr>\n",
       "      <th>2</th>\n",
       "      <td>10001831</td>\n",
       "      <td>10/06/2022</td>\n",
       "      <td>2</td>\n",
       "      <td>99</td>\n",
       "      <td>99</td>\n",
       "      <td>991</td>\n",
       "      <td>9991</td>\n",
       "      <td>91</td>\n",
       "      <td>91</td>\n",
       "      <td>91</td>\n",
       "      <td>...</td>\n",
       "      <td>2</td>\n",
       "      <td>2</td>\n",
       "      <td>2.0</td>\n",
       "      <td>2</td>\n",
       "      <td>2</td>\n",
       "      <td>2</td>\n",
       "      <td>2</td>\n",
       "      <td>647.085653</td>\n",
       "      <td>40037</td>\n",
       "      <td>2</td>\n",
       "    </tr>\n",
       "    <tr>\n",
       "      <th>3</th>\n",
       "      <td>10002722</td>\n",
       "      <td>10/06/2022</td>\n",
       "      <td>1</td>\n",
       "      <td>99</td>\n",
       "      <td>99</td>\n",
       "      <td>9</td>\n",
       "      <td>9999</td>\n",
       "      <td>99</td>\n",
       "      <td>1</td>\n",
       "      <td>30</td>\n",
       "      <td>...</td>\n",
       "      <td>2</td>\n",
       "      <td>2</td>\n",
       "      <td>2.0</td>\n",
       "      <td>1</td>\n",
       "      <td>1</td>\n",
       "      <td>2</td>\n",
       "      <td>2</td>\n",
       "      <td>11275.260484</td>\n",
       "      <td>40045</td>\n",
       "      <td>2</td>\n",
       "    </tr>\n",
       "    <tr>\n",
       "      <th>4</th>\n",
       "      <td>10002897</td>\n",
       "      <td>10/06/2022</td>\n",
       "      <td>2</td>\n",
       "      <td>99</td>\n",
       "      <td>99</td>\n",
       "      <td>991</td>\n",
       "      <td>9991</td>\n",
       "      <td>91</td>\n",
       "      <td>91</td>\n",
       "      <td>91</td>\n",
       "      <td>...</td>\n",
       "      <td>2</td>\n",
       "      <td>1</td>\n",
       "      <td>1.0</td>\n",
       "      <td>1</td>\n",
       "      <td>1</td>\n",
       "      <td>2</td>\n",
       "      <td>2</td>\n",
       "      <td>350.985132</td>\n",
       "      <td>40006</td>\n",
       "      <td>1</td>\n",
       "    </tr>\n",
       "    <tr>\n",
       "      <th>5</th>\n",
       "      <td>10003413</td>\n",
       "      <td>10/06/2022</td>\n",
       "      <td>1</td>\n",
       "      <td>99</td>\n",
       "      <td>99</td>\n",
       "      <td>15</td>\n",
       "      <td>9999</td>\n",
       "      <td>99</td>\n",
       "      <td>1</td>\n",
       "      <td>30</td>\n",
       "      <td>...</td>\n",
       "      <td>2</td>\n",
       "      <td>3</td>\n",
       "      <td>2.0</td>\n",
       "      <td>1</td>\n",
       "      <td>1</td>\n",
       "      <td>2</td>\n",
       "      <td>2</td>\n",
       "      <td>83739.860176</td>\n",
       "      <td>40041</td>\n",
       "      <td>2</td>\n",
       "    </tr>\n",
       "    <tr>\n",
       "      <th>6</th>\n",
       "      <td>10004677</td>\n",
       "      <td>10/06/2022</td>\n",
       "      <td>1</td>\n",
       "      <td>99</td>\n",
       "      <td>99</td>\n",
       "      <td>23</td>\n",
       "      <td>2021</td>\n",
       "      <td>6</td>\n",
       "      <td>1</td>\n",
       "      <td>1</td>\n",
       "      <td>...</td>\n",
       "      <td>2</td>\n",
       "      <td>4</td>\n",
       "      <td>3.0</td>\n",
       "      <td>1</td>\n",
       "      <td>1</td>\n",
       "      <td>2</td>\n",
       "      <td>2</td>\n",
       "      <td>1988.435640</td>\n",
       "      <td>40021</td>\n",
       "      <td>2</td>\n",
       "    </tr>\n",
       "    <tr>\n",
       "      <th>7</th>\n",
       "      <td>10004796</td>\n",
       "      <td>10/06/2022</td>\n",
       "      <td>2</td>\n",
       "      <td>99</td>\n",
       "      <td>99</td>\n",
       "      <td>991</td>\n",
       "      <td>9991</td>\n",
       "      <td>91</td>\n",
       "      <td>91</td>\n",
       "      <td>91</td>\n",
       "      <td>...</td>\n",
       "      <td>2</td>\n",
       "      <td>3</td>\n",
       "      <td>3.0</td>\n",
       "      <td>2</td>\n",
       "      <td>2</td>\n",
       "      <td>2</td>\n",
       "      <td>2</td>\n",
       "      <td>382.287416</td>\n",
       "      <td>40008</td>\n",
       "      <td>1</td>\n",
       "    </tr>\n",
       "    <tr>\n",
       "      <th>8</th>\n",
       "      <td>10004832</td>\n",
       "      <td>10/06/2022</td>\n",
       "      <td>2</td>\n",
       "      <td>4</td>\n",
       "      <td>4</td>\n",
       "      <td>991</td>\n",
       "      <td>9991</td>\n",
       "      <td>91</td>\n",
       "      <td>91</td>\n",
       "      <td>91</td>\n",
       "      <td>...</td>\n",
       "      <td>1</td>\n",
       "      <td>1</td>\n",
       "      <td>1.0</td>\n",
       "      <td>2</td>\n",
       "      <td>2</td>\n",
       "      <td>2</td>\n",
       "      <td>2</td>\n",
       "      <td>3873.589659</td>\n",
       "      <td>40007</td>\n",
       "      <td>2</td>\n",
       "    </tr>\n",
       "    <tr>\n",
       "      <th>9</th>\n",
       "      <td>10005265</td>\n",
       "      <td>10/06/2022</td>\n",
       "      <td>2</td>\n",
       "      <td>99</td>\n",
       "      <td>99</td>\n",
       "      <td>991</td>\n",
       "      <td>9991</td>\n",
       "      <td>91</td>\n",
       "      <td>91</td>\n",
       "      <td>91</td>\n",
       "      <td>...</td>\n",
       "      <td>2</td>\n",
       "      <td>1</td>\n",
       "      <td>1.0</td>\n",
       "      <td>1</td>\n",
       "      <td>1</td>\n",
       "      <td>2</td>\n",
       "      <td>2</td>\n",
       "      <td>2545.014038</td>\n",
       "      <td>40022</td>\n",
       "      <td>2</td>\n",
       "    </tr>\n",
       "  </tbody>\n",
       "</table>\n",
       "<p>10 rows × 2988 columns</p>\n",
       "</div>"
      ],
      "text/plain": [
       "   QUESTID2    FILEDATE  CIGEVER  CIGOFRSM  CIGWILYR  CIGTRY  CIGYFU  CIGMFU  \\\n",
       "0  10000182  10/06/2022        1        99        99      19    9999      99   \n",
       "1  10001255  10/06/2022        1        99        99      15    9999      99   \n",
       "2  10001831  10/06/2022        2        99        99     991    9991      91   \n",
       "3  10002722  10/06/2022        1        99        99       9    9999      99   \n",
       "4  10002897  10/06/2022        2        99        99     991    9991      91   \n",
       "5  10003413  10/06/2022        1        99        99      15    9999      99   \n",
       "6  10004677  10/06/2022        1        99        99      23    2021       6   \n",
       "7  10004796  10/06/2022        2        99        99     991    9991      91   \n",
       "8  10004832  10/06/2022        2         4         4     991    9991      91   \n",
       "9  10005265  10/06/2022        2        99        99     991    9991      91   \n",
       "\n",
       "   CIGREC  CIG30USE  ...  GOVTPROG  INCOME  POVERTY3  PDEN10  COUTYP4  \\\n",
       "0       1         7  ...         1       1       2.0       2        3   \n",
       "1       4        93  ...         2       4       3.0       1        1   \n",
       "2      91        91  ...         2       2       2.0       2        2   \n",
       "3       1        30  ...         2       2       2.0       1        1   \n",
       "4      91        91  ...         2       1       1.0       1        1   \n",
       "5       1        30  ...         2       3       2.0       1        1   \n",
       "6       1         1  ...         2       4       3.0       1        1   \n",
       "7      91        91  ...         2       3       3.0       2        2   \n",
       "8      91        91  ...         1       1       1.0       2        2   \n",
       "9      91        91  ...         2       1       1.0       1        1   \n",
       "\n",
       "   MAIIN102  AIIND102      ANALWT_C  VESTR_C  VEREP  \n",
       "0         2         2    675.130812    40047      1  \n",
       "1         2         2  12435.513603    40037      2  \n",
       "2         2         2    647.085653    40037      2  \n",
       "3         2         2  11275.260484    40045      2  \n",
       "4         2         2    350.985132    40006      1  \n",
       "5         2         2  83739.860176    40041      2  \n",
       "6         2         2   1988.435640    40021      2  \n",
       "7         2         2    382.287416    40008      1  \n",
       "8         2         2   3873.589659    40007      2  \n",
       "9         2         2   2545.014038    40022      2  \n",
       "\n",
       "[10 rows x 2988 columns]"
      ]
     },
     "execution_count": 3,
     "metadata": {},
     "output_type": "execute_result"
    }
   ],
   "source": [
    "drug_data.head(10)"
   ]
  },
  {
   "cell_type": "markdown",
   "id": "469dfe81",
   "metadata": {
    "papermill": {
     "duration": 0.008213,
     "end_time": "2023-04-10T03:31:20.931752",
     "exception": false,
     "start_time": "2023-04-10T03:31:20.923539",
     "status": "completed"
    },
    "tags": []
   },
   "source": [
    "**Choosing the required variables**"
   ]
  },
  {
   "cell_type": "code",
   "execution_count": 4,
   "id": "6343b0f0",
   "metadata": {
    "execution": {
     "iopub.execute_input": "2023-04-10T03:31:20.951165Z",
     "iopub.status.busy": "2023-04-10T03:31:20.950695Z",
     "iopub.status.idle": "2023-04-10T03:31:20.971270Z",
     "shell.execute_reply": "2023-04-10T03:31:20.969679Z"
    },
    "papermill": {
     "duration": 0.033296,
     "end_time": "2023-04-10T03:31:20.973713",
     "exception": false,
     "start_time": "2023-04-10T03:31:20.940417",
     "status": "completed"
    },
    "tags": []
   },
   "outputs": [
    {
     "data": {
      "text/html": [
       "<div>\n",
       "<style scoped>\n",
       "    .dataframe tbody tr th:only-of-type {\n",
       "        vertical-align: middle;\n",
       "    }\n",
       "\n",
       "    .dataframe tbody tr th {\n",
       "        vertical-align: top;\n",
       "    }\n",
       "\n",
       "    .dataframe thead th {\n",
       "        text-align: right;\n",
       "    }\n",
       "</style>\n",
       "<table border=\"1\" class=\"dataframe\">\n",
       "  <thead>\n",
       "    <tr style=\"text-align: right;\">\n",
       "      <th></th>\n",
       "      <th>GOVTPROG</th>\n",
       "      <th>INCOME</th>\n",
       "      <th>POVERTY3</th>\n",
       "      <th>COUTYP4</th>\n",
       "      <th>WRKDPSTYR</th>\n",
       "      <th>WRKHADJOB</th>\n",
       "      <th>IRSEX</th>\n",
       "      <th>IRMARIT</th>\n",
       "      <th>CATAG7</th>\n",
       "      <th>HEALTH2</th>\n",
       "      <th>NEWRACE2</th>\n",
       "    </tr>\n",
       "  </thead>\n",
       "  <tbody>\n",
       "    <tr>\n",
       "      <th>0</th>\n",
       "      <td>1</td>\n",
       "      <td>1</td>\n",
       "      <td>2.0</td>\n",
       "      <td>3</td>\n",
       "      <td>2</td>\n",
       "      <td>2</td>\n",
       "      <td>2</td>\n",
       "      <td>4</td>\n",
       "      <td>6</td>\n",
       "      <td>4.0</td>\n",
       "      <td>1</td>\n",
       "    </tr>\n",
       "    <tr>\n",
       "      <th>1</th>\n",
       "      <td>2</td>\n",
       "      <td>4</td>\n",
       "      <td>3.0</td>\n",
       "      <td>1</td>\n",
       "      <td>2</td>\n",
       "      <td>2</td>\n",
       "      <td>1</td>\n",
       "      <td>1</td>\n",
       "      <td>7</td>\n",
       "      <td>3.0</td>\n",
       "      <td>1</td>\n",
       "    </tr>\n",
       "    <tr>\n",
       "      <th>2</th>\n",
       "      <td>2</td>\n",
       "      <td>2</td>\n",
       "      <td>2.0</td>\n",
       "      <td>2</td>\n",
       "      <td>99</td>\n",
       "      <td>99</td>\n",
       "      <td>2</td>\n",
       "      <td>4</td>\n",
       "      <td>5</td>\n",
       "      <td>2.0</td>\n",
       "      <td>1</td>\n",
       "    </tr>\n",
       "    <tr>\n",
       "      <th>3</th>\n",
       "      <td>2</td>\n",
       "      <td>2</td>\n",
       "      <td>2.0</td>\n",
       "      <td>1</td>\n",
       "      <td>2</td>\n",
       "      <td>2</td>\n",
       "      <td>1</td>\n",
       "      <td>4</td>\n",
       "      <td>7</td>\n",
       "      <td>2.0</td>\n",
       "      <td>1</td>\n",
       "    </tr>\n",
       "    <tr>\n",
       "      <th>4</th>\n",
       "      <td>2</td>\n",
       "      <td>1</td>\n",
       "      <td>1.0</td>\n",
       "      <td>1</td>\n",
       "      <td>2</td>\n",
       "      <td>2</td>\n",
       "      <td>1</td>\n",
       "      <td>4</td>\n",
       "      <td>5</td>\n",
       "      <td>1.0</td>\n",
       "      <td>7</td>\n",
       "    </tr>\n",
       "    <tr>\n",
       "      <th>5</th>\n",
       "      <td>2</td>\n",
       "      <td>3</td>\n",
       "      <td>2.0</td>\n",
       "      <td>1</td>\n",
       "      <td>2</td>\n",
       "      <td>2</td>\n",
       "      <td>1</td>\n",
       "      <td>1</td>\n",
       "      <td>7</td>\n",
       "      <td>3.0</td>\n",
       "      <td>7</td>\n",
       "    </tr>\n",
       "    <tr>\n",
       "      <th>6</th>\n",
       "      <td>2</td>\n",
       "      <td>4</td>\n",
       "      <td>3.0</td>\n",
       "      <td>1</td>\n",
       "      <td>99</td>\n",
       "      <td>99</td>\n",
       "      <td>1</td>\n",
       "      <td>4</td>\n",
       "      <td>5</td>\n",
       "      <td>2.0</td>\n",
       "      <td>5</td>\n",
       "    </tr>\n",
       "    <tr>\n",
       "      <th>7</th>\n",
       "      <td>2</td>\n",
       "      <td>3</td>\n",
       "      <td>3.0</td>\n",
       "      <td>2</td>\n",
       "      <td>99</td>\n",
       "      <td>99</td>\n",
       "      <td>2</td>\n",
       "      <td>4</td>\n",
       "      <td>7</td>\n",
       "      <td>3.0</td>\n",
       "      <td>1</td>\n",
       "    </tr>\n",
       "    <tr>\n",
       "      <th>8</th>\n",
       "      <td>1</td>\n",
       "      <td>1</td>\n",
       "      <td>1.0</td>\n",
       "      <td>2</td>\n",
       "      <td>99</td>\n",
       "      <td>99</td>\n",
       "      <td>2</td>\n",
       "      <td>99</td>\n",
       "      <td>1</td>\n",
       "      <td>3.0</td>\n",
       "      <td>2</td>\n",
       "    </tr>\n",
       "    <tr>\n",
       "      <th>9</th>\n",
       "      <td>2</td>\n",
       "      <td>1</td>\n",
       "      <td>1.0</td>\n",
       "      <td>1</td>\n",
       "      <td>99</td>\n",
       "      <td>99</td>\n",
       "      <td>2</td>\n",
       "      <td>4</td>\n",
       "      <td>4</td>\n",
       "      <td>2.0</td>\n",
       "      <td>7</td>\n",
       "    </tr>\n",
       "  </tbody>\n",
       "</table>\n",
       "</div>"
      ],
      "text/plain": [
       "   GOVTPROG  INCOME  POVERTY3  COUTYP4  WRKDPSTYR  WRKHADJOB  IRSEX  IRMARIT  \\\n",
       "0         1       1       2.0        3          2          2      2        4   \n",
       "1         2       4       3.0        1          2          2      1        1   \n",
       "2         2       2       2.0        2         99         99      2        4   \n",
       "3         2       2       2.0        1          2          2      1        4   \n",
       "4         2       1       1.0        1          2          2      1        4   \n",
       "5         2       3       2.0        1          2          2      1        1   \n",
       "6         2       4       3.0        1         99         99      1        4   \n",
       "7         2       3       3.0        2         99         99      2        4   \n",
       "8         1       1       1.0        2         99         99      2       99   \n",
       "9         2       1       1.0        1         99         99      2        4   \n",
       "\n",
       "   CATAG7  HEALTH2  NEWRACE2  \n",
       "0       6      4.0         1  \n",
       "1       7      3.0         1  \n",
       "2       5      2.0         1  \n",
       "3       7      2.0         1  \n",
       "4       5      1.0         7  \n",
       "5       7      3.0         7  \n",
       "6       5      2.0         5  \n",
       "7       7      3.0         1  \n",
       "8       1      3.0         2  \n",
       "9       4      2.0         7  "
      ]
     },
     "execution_count": 4,
     "metadata": {},
     "output_type": "execute_result"
    }
   ],
   "source": [
    "filtered_drug_data = drug_data[['GOVTPROG', 'INCOME', 'POVERTY3', 'COUTYP4', 'WRKDPSTYR', 'WRKHADJOB','IRSEX', 'IRMARIT', 'CATAG7','HEALTH2', 'NEWRACE2']]\n",
    "filtered_drug_data.head(10)"
   ]
  },
  {
   "cell_type": "markdown",
   "id": "632eae18",
   "metadata": {
    "papermill": {
     "duration": 0.008532,
     "end_time": "2023-04-10T03:31:20.991357",
     "exception": false,
     "start_time": "2023-04-10T03:31:20.982825",
     "status": "completed"
    },
    "tags": []
   },
   "source": [
    "**Plotting of Data**"
   ]
  },
  {
   "cell_type": "code",
   "execution_count": 5,
   "id": "c83437aa",
   "metadata": {
    "execution": {
     "iopub.execute_input": "2023-04-10T03:31:21.011848Z",
     "iopub.status.busy": "2023-04-10T03:31:21.011406Z",
     "iopub.status.idle": "2023-04-10T03:31:21.353297Z",
     "shell.execute_reply": "2023-04-10T03:31:21.352303Z"
    },
    "papermill": {
     "duration": 0.354875,
     "end_time": "2023-04-10T03:31:21.355664",
     "exception": false,
     "start_time": "2023-04-10T03:31:21.000789",
     "status": "completed"
    },
    "tags": []
   },
   "outputs": [
    {
     "data": {
      "text/plain": [
       "Text(0, 0.5, 'Frequency')"
      ]
     },
     "execution_count": 5,
     "metadata": {},
     "output_type": "execute_result"
    },
    {
     "data": {
      "image/png": "[encoded data removed]",
      "text/plain": [
       "<Figure size 640x480 with 1 Axes>"
      ]
     },
     "metadata": {},
     "output_type": "display_data"
    }
   ],
   "source": [
    "fig, ax = plt.subplots()\n",
    "\n",
    "age_dictionary = {'1': '12-13','2': '14-15','3': '16-17','4': '18-20','5': '21-25','6': '26-34','7': '35-Older', }\n",
    "ax = filtered_drug_data['CATAG7'].value_counts().sort_index().plot(ax=ax, kind='bar', title = 'Data by Age Group')\n",
    "ax.set_xticklabels(age_dictionary.values(), rotation=360)\n",
    "ax.set_xlabel(\"Age Groups\")\n",
    "ax.set_ylabel(\"Frequency\")"
   ]
  },
  {
   "cell_type": "code",
   "execution_count": 6,
   "id": "36236c01",
   "metadata": {
    "execution": {
     "iopub.execute_input": "2023-04-10T03:31:21.376742Z",
     "iopub.status.busy": "2023-04-10T03:31:21.376279Z",
     "iopub.status.idle": "2023-04-10T03:31:21.647568Z",
     "shell.execute_reply": "2023-04-10T03:31:21.646121Z"
    },
    "papermill": {
     "duration": 0.285126,
     "end_time": "2023-04-10T03:31:21.650220",
     "exception": false,
     "start_time": "2023-04-10T03:31:21.365094",
     "status": "completed"
    },
    "tags": []
   },
   "outputs": [
    {
     "data": {
      "text/plain": [
       "Text(0, 0.5, 'Frequency')"
      ]
     },
     "execution_count": 6,
     "metadata": {},
     "output_type": "execute_result"
    },
    {
     "data": {
      "image/png": "[encoded data removed]",
      "text/plain": [
       "<Figure size 640x480 with 1 Axes>"
      ]
     },
     "metadata": {},
     "output_type": "display_data"
    }
   ],
   "source": [
    "fig, ax = plt.subplots()\n",
    "\n",
    "race_dictionary = {'1': 'White','2': 'African American','3': 'Am/AK Native','4': 'Native HI/Other Pac Isl','5': 'Asian','6': 'NonHisp more than one race','7': 'Hispanic', }\n",
    "ax = filtered_drug_data['NEWRACE2'].value_counts().sort_index().plot(ax=ax, kind='bar', title = 'Data by Race')\n",
    "ax.set_xticklabels(race_dictionary.values(), rotation=80)\n",
    "ax.set_xlabel(\"Race\")\n",
    "ax.set_ylabel(\"Frequency\")"
   ]
  },
  {
   "cell_type": "markdown",
   "id": "f9f467fe",
   "metadata": {
    "papermill": {
     "duration": 0.00977,
     "end_time": "2023-04-10T03:31:21.670485",
     "exception": false,
     "start_time": "2023-04-10T03:31:21.660715",
     "status": "completed"
    },
    "tags": []
   },
   "source": [
    "**Drug Use Analysis**"
   ]
  },
  {
   "cell_type": "code",
   "execution_count": 7,
   "id": "82a7d16e",
   "metadata": {
    "execution": {
     "iopub.execute_input": "2023-04-10T03:31:21.693498Z",
     "iopub.status.busy": "2023-04-10T03:31:21.692817Z",
     "iopub.status.idle": "2023-04-10T03:31:21.709690Z",
     "shell.execute_reply": "2023-04-10T03:31:21.708131Z"
    },
    "papermill": {
     "duration": 0.032132,
     "end_time": "2023-04-10T03:31:21.712631",
     "exception": false,
     "start_time": "2023-04-10T03:31:21.680499",
     "status": "completed"
    },
    "tags": []
   },
   "outputs": [
    {
     "name": "stdout",
     "output_type": "stream",
     "text": [
      "<class 'pandas.core.frame.DataFrame'>\n",
      "RangeIndex: 58034 entries, 0 to 58033\n",
      "Data columns (total 16 columns):\n",
      " #   Column     Non-Null Count  Dtype\n",
      "---  ------     --------------  -----\n",
      " 0   CIGEVER    58034 non-null  int64\n",
      " 1   CIGTRY     58034 non-null  int64\n",
      " 2   METHAMEVR  58034 non-null  int64\n",
      " 3   METHAMAGE  58034 non-null  int64\n",
      " 4   ALCEVER    58034 non-null  int64\n",
      " 5   ALCTRY     58034 non-null  int64\n",
      " 6   MJEVER     58034 non-null  int64\n",
      " 7   MJAGE      58034 non-null  int64\n",
      " 8   COCEVER    58034 non-null  int64\n",
      " 9   COCAGE     58034 non-null  int64\n",
      " 10  CRKEVER    58034 non-null  int64\n",
      " 11  CRKAGE     58034 non-null  int64\n",
      " 12  HEREVER    58034 non-null  int64\n",
      " 13  HERAGE     58034 non-null  int64\n",
      " 14  METHAMEVR  58034 non-null  int64\n",
      " 15  METHAMAGE  58034 non-null  int64\n",
      "dtypes: int64(16)\n",
      "memory usage: 7.1 MB\n"
     ]
    }
   ],
   "source": [
    "filtered_drug_use_data = drug_data[['CIGEVER','CIGTRY','METHAMEVR', 'METHAMAGE', 'ALCEVER', 'ALCTRY', 'MJEVER', 'MJAGE','COCEVER', 'COCAGE', 'CRKEVER','CRKAGE', 'HEREVER', 'HERAGE', 'METHAMEVR',\n",
    "                                   'METHAMAGE']]\n",
    "filtered_drug_use_data.head(10)\n",
    "filtered_drug_use_data.info()"
   ]
  },
  {
   "cell_type": "markdown",
   "id": "1450ab87",
   "metadata": {
    "papermill": {
     "duration": 0.00996,
     "end_time": "2023-04-10T03:31:21.732967",
     "exception": false,
     "start_time": "2023-04-10T03:31:21.723007",
     "status": "completed"
    },
    "tags": []
   },
   "source": [
    "Find how many have used any of the substances mentioned in data set"
   ]
  },
  {
   "cell_type": "code",
   "execution_count": 8,
   "id": "0fd6b3ce",
   "metadata": {
    "execution": {
     "iopub.execute_input": "2023-04-10T03:31:21.755092Z",
     "iopub.status.busy": "2023-04-10T03:31:21.754640Z",
     "iopub.status.idle": "2023-04-10T03:31:21.775789Z",
     "shell.execute_reply": "2023-04-10T03:31:21.773940Z"
    },
    "papermill": {
     "duration": 0.035302,
     "end_time": "2023-04-10T03:31:21.778489",
     "exception": false,
     "start_time": "2023-04-10T03:31:21.743187",
     "status": "completed"
    },
    "tags": []
   },
   "outputs": [
    {
     "name": "stderr",
     "output_type": "stream",
     "text": [
      "/opt/conda/lib/python3.7/site-packages/pandas/core/indexing.py:1732: SettingWithCopyWarning: \n",
      "A value is trying to be set on a copy of a slice from a DataFrame\n",
      "\n",
      "See the caveats in the documentation: https://pandas.pydata.org/pandas-docs/stable/user_guide/indexing.html#returning-a-view-versus-a-copy\n",
      "  self._setitem_single_block(indexer, value, name)\n",
      "/opt/conda/lib/python3.7/site-packages/pandas/core/indexing.py:723: SettingWithCopyWarning: \n",
      "A value is trying to be set on a copy of a slice from a DataFrame\n",
      "\n",
      "See the caveats in the documentation: https://pandas.pydata.org/pandas-docs/stable/user_guide/indexing.html#returning-a-view-versus-a-copy\n",
      "  iloc._setitem_with_indexer(indexer, value, self.name)\n"
     ]
    }
   ],
   "source": [
    "# confirmed_drug_used = filtered_drug_use_data.query(\"CIGEVER = 1\")\n",
    "drug_used_correlation = drug_data[['CIGEVER','METHAMEVR', 'ALCEVER', 'MJEVER','COCEVER', 'CRKEVER', 'HEREVER']]\n",
    "\n",
    "# change garbage values to zero\n",
    "    \n",
    "for a in drug_used_correlation.columns:\n",
    "    drug_used_correlation.loc[drug_used_correlation[a] > 1, a] = 0"
   ]
  },
  {
   "cell_type": "markdown",
   "id": "36483a69",
   "metadata": {
    "papermill": {
     "duration": 0.01026,
     "end_time": "2023-04-10T03:31:21.799042",
     "exception": false,
     "start_time": "2023-04-10T03:31:21.788782",
     "status": "completed"
    },
    "tags": []
   },
   "source": [
    "# Correlation of values"
   ]
  },
  {
   "cell_type": "code",
   "execution_count": 9,
   "id": "628f866e",
   "metadata": {
    "execution": {
     "iopub.execute_input": "2023-04-10T03:31:21.822393Z",
     "iopub.status.busy": "2023-04-10T03:31:21.821648Z",
     "iopub.status.idle": "2023-04-10T03:31:22.025008Z",
     "shell.execute_reply": "2023-04-10T03:31:22.023897Z"
    },
    "papermill": {
     "duration": 0.217995,
     "end_time": "2023-04-10T03:31:22.027605",
     "exception": false,
     "start_time": "2023-04-10T03:31:21.809610",
     "status": "completed"
    },
    "tags": []
   },
   "outputs": [
    {
     "data": {
      "text/html": [
       "<style type=\"text/css\">\n",
       "#T_ee0ad_row0_col0, #T_ee0ad_row1_col1, #T_ee0ad_row2_col2, #T_ee0ad_row3_col3, #T_ee0ad_row4_col4, #T_ee0ad_row5_col5, #T_ee0ad_row6_col6 {\n",
       "  background-color: #b40426;\n",
       "  color: #f1f1f1;\n",
       "}\n",
       "#T_ee0ad_row0_col1 {\n",
       "  background-color: #5d7ce6;\n",
       "  color: #f1f1f1;\n",
       "}\n",
       "#T_ee0ad_row0_col2 {\n",
       "  background-color: #c3d5f4;\n",
       "  color: #000000;\n",
       "}\n",
       "#T_ee0ad_row0_col3, #T_ee0ad_row3_col0 {\n",
       "  background-color: #cdd9ec;\n",
       "  color: #000000;\n",
       "}\n",
       "#T_ee0ad_row0_col4 {\n",
       "  background-color: #7396f5;\n",
       "  color: #f1f1f1;\n",
       "}\n",
       "#T_ee0ad_row0_col5 {\n",
       "  background-color: #5673e0;\n",
       "  color: #f1f1f1;\n",
       "}\n",
       "#T_ee0ad_row0_col6, #T_ee0ad_row3_col6 {\n",
       "  background-color: #516ddb;\n",
       "  color: #f1f1f1;\n",
       "}\n",
       "#T_ee0ad_row1_col0 {\n",
       "  background-color: #5572df;\n",
       "  color: #f1f1f1;\n",
       "}\n",
       "#T_ee0ad_row1_col2 {\n",
       "  background-color: #4961d2;\n",
       "  color: #f1f1f1;\n",
       "}\n",
       "#T_ee0ad_row1_col3, #T_ee0ad_row3_col5 {\n",
       "  background-color: #5875e1;\n",
       "  color: #f1f1f1;\n",
       "}\n",
       "#T_ee0ad_row1_col4, #T_ee0ad_row6_col1 {\n",
       "  background-color: #a2c1ff;\n",
       "  color: #000000;\n",
       "}\n",
       "#T_ee0ad_row1_col5, #T_ee0ad_row2_col3 {\n",
       "  background-color: #bed2f6;\n",
       "  color: #000000;\n",
       "}\n",
       "#T_ee0ad_row1_col6 {\n",
       "  background-color: #aec9fc;\n",
       "  color: #000000;\n",
       "}\n",
       "#T_ee0ad_row2_col0 {\n",
       "  background-color: #b3cdfb;\n",
       "  color: #000000;\n",
       "}\n",
       "#T_ee0ad_row2_col1, #T_ee0ad_row2_col4, #T_ee0ad_row2_col5, #T_ee0ad_row2_col6, #T_ee0ad_row6_col0, #T_ee0ad_row6_col2, #T_ee0ad_row6_col3 {\n",
       "  background-color: #3b4cc0;\n",
       "  color: #f1f1f1;\n",
       "}\n",
       "#T_ee0ad_row3_col1 {\n",
       "  background-color: #6180e9;\n",
       "  color: #f1f1f1;\n",
       "}\n",
       "#T_ee0ad_row3_col2 {\n",
       "  background-color: #ccd9ed;\n",
       "  color: #000000;\n",
       "}\n",
       "#T_ee0ad_row3_col4 {\n",
       "  background-color: #85a8fc;\n",
       "  color: #f1f1f1;\n",
       "}\n",
       "#T_ee0ad_row4_col0 {\n",
       "  background-color: #8badfd;\n",
       "  color: #000000;\n",
       "}\n",
       "#T_ee0ad_row4_col1 {\n",
       "  background-color: #bbd1f8;\n",
       "  color: #000000;\n",
       "}\n",
       "#T_ee0ad_row4_col2 {\n",
       "  background-color: #6a8bef;\n",
       "  color: #f1f1f1;\n",
       "}\n",
       "#T_ee0ad_row4_col3 {\n",
       "  background-color: #9bbcff;\n",
       "  color: #000000;\n",
       "}\n",
       "#T_ee0ad_row4_col5 {\n",
       "  background-color: #c0d4f5;\n",
       "  color: #000000;\n",
       "}\n",
       "#T_ee0ad_row4_col6 {\n",
       "  background-color: #98b9ff;\n",
       "  color: #000000;\n",
       "}\n",
       "#T_ee0ad_row5_col0 {\n",
       "  background-color: #445acc;\n",
       "  color: #f1f1f1;\n",
       "}\n",
       "#T_ee0ad_row5_col1 {\n",
       "  background-color: #b7cff9;\n",
       "  color: #000000;\n",
       "}\n",
       "#T_ee0ad_row5_col2 {\n",
       "  background-color: #3f53c6;\n",
       "  color: #f1f1f1;\n",
       "}\n",
       "#T_ee0ad_row5_col3 {\n",
       "  background-color: #465ecf;\n",
       "  color: #f1f1f1;\n",
       "}\n",
       "#T_ee0ad_row5_col4 {\n",
       "  background-color: #a1c0ff;\n",
       "  color: #000000;\n",
       "}\n",
       "#T_ee0ad_row5_col6 {\n",
       "  background-color: #c9d7f0;\n",
       "  color: #000000;\n",
       "}\n",
       "#T_ee0ad_row6_col4 {\n",
       "  background-color: #6c8ff1;\n",
       "  color: #f1f1f1;\n",
       "}\n",
       "#T_ee0ad_row6_col5 {\n",
       "  background-color: #c6d6f1;\n",
       "  color: #000000;\n",
       "}\n",
       "</style>\n",
       "<table id=\"T_ee0ad_\">\n",
       "  <thead>\n",
       "    <tr>\n",
       "      <th class=\"blank level0\" >&nbsp;</th>\n",
       "      <th class=\"col_heading level0 col0\" >CIGEVER</th>\n",
       "      <th class=\"col_heading level0 col1\" >METHAMEVR</th>\n",
       "      <th class=\"col_heading level0 col2\" >ALCEVER</th>\n",
       "      <th class=\"col_heading level0 col3\" >MJEVER</th>\n",
       "      <th class=\"col_heading level0 col4\" >COCEVER</th>\n",
       "      <th class=\"col_heading level0 col5\" >CRKEVER</th>\n",
       "      <th class=\"col_heading level0 col6\" >HEREVER</th>\n",
       "    </tr>\n",
       "  </thead>\n",
       "  <tbody>\n",
       "    <tr>\n",
       "      <th id=\"T_ee0ad_level0_row0\" class=\"row_heading level0 row0\" >CIGEVER</th>\n",
       "      <td id=\"T_ee0ad_row0_col0\" class=\"data row0 col0\" >1.000000</td>\n",
       "      <td id=\"T_ee0ad_row0_col1\" class=\"data row0 col1\" >0.226148</td>\n",
       "      <td id=\"T_ee0ad_row0_col2\" class=\"data row0 col2\" >0.457764</td>\n",
       "      <td id=\"T_ee0ad_row0_col3\" class=\"data row0 col3\" >0.527134</td>\n",
       "      <td id=\"T_ee0ad_row0_col4\" class=\"data row0 col4\" >0.358534</td>\n",
       "      <td id=\"T_ee0ad_row0_col5\" class=\"data row0 col5\" >0.181328</td>\n",
       "      <td id=\"T_ee0ad_row0_col6\" class=\"data row0 col6\" >0.151858</td>\n",
       "    </tr>\n",
       "    <tr>\n",
       "      <th id=\"T_ee0ad_level0_row1\" class=\"row_heading level0 row1\" >METHAMEVR</th>\n",
       "      <td id=\"T_ee0ad_row1_col0\" class=\"data row1 col0\" >0.226148</td>\n",
       "      <td id=\"T_ee0ad_row1_col1\" class=\"data row1 col1\" >1.000000</td>\n",
       "      <td id=\"T_ee0ad_row1_col2\" class=\"data row1 col2\" >0.128939</td>\n",
       "      <td id=\"T_ee0ad_row1_col3\" class=\"data row1 col3\" >0.234909</td>\n",
       "      <td id=\"T_ee0ad_row1_col4\" class=\"data row1 col4\" >0.464046</td>\n",
       "      <td id=\"T_ee0ad_row1_col5\" class=\"data row1 col5\" >0.453658</td>\n",
       "      <td id=\"T_ee0ad_row1_col6\" class=\"data row1 col6\" >0.398724</td>\n",
       "    </tr>\n",
       "    <tr>\n",
       "      <th id=\"T_ee0ad_level0_row2\" class=\"row_heading level0 row2\" >ALCEVER</th>\n",
       "      <td id=\"T_ee0ad_row2_col0\" class=\"data row2 col0\" >0.457764</td>\n",
       "      <td id=\"T_ee0ad_row2_col1\" class=\"data row2 col1\" >0.128939</td>\n",
       "      <td id=\"T_ee0ad_row2_col2\" class=\"data row2 col2\" >1.000000</td>\n",
       "      <td id=\"T_ee0ad_row2_col3\" class=\"data row2 col3\" >0.486901</td>\n",
       "      <td id=\"T_ee0ad_row2_col4\" class=\"data row2 col4\" >0.221551</td>\n",
       "      <td id=\"T_ee0ad_row2_col5\" class=\"data row2 col5\" >0.099510</td>\n",
       "      <td id=\"T_ee0ad_row2_col6\" class=\"data row2 col6\" >0.082433</td>\n",
       "    </tr>\n",
       "    <tr>\n",
       "      <th id=\"T_ee0ad_level0_row3\" class=\"row_heading level0 row3\" >MJEVER</th>\n",
       "      <td id=\"T_ee0ad_row3_col0\" class=\"data row3 col0\" >0.527134</td>\n",
       "      <td id=\"T_ee0ad_row3_col1\" class=\"data row3 col1\" >0.234909</td>\n",
       "      <td id=\"T_ee0ad_row3_col2\" class=\"data row3 col2\" >0.486901</td>\n",
       "      <td id=\"T_ee0ad_row3_col3\" class=\"data row3 col3\" >1.000000</td>\n",
       "      <td id=\"T_ee0ad_row3_col4\" class=\"data row3 col4\" >0.398514</td>\n",
       "      <td id=\"T_ee0ad_row3_col5\" class=\"data row3 col5\" >0.186176</td>\n",
       "      <td id=\"T_ee0ad_row3_col6\" class=\"data row3 col6\" >0.152665</td>\n",
       "    </tr>\n",
       "    <tr>\n",
       "      <th id=\"T_ee0ad_level0_row4\" class=\"row_heading level0 row4\" >COCEVER</th>\n",
       "      <td id=\"T_ee0ad_row4_col0\" class=\"data row4 col0\" >0.358534</td>\n",
       "      <td id=\"T_ee0ad_row4_col1\" class=\"data row4 col1\" >0.464046</td>\n",
       "      <td id=\"T_ee0ad_row4_col2\" class=\"data row4 col2\" >0.221551</td>\n",
       "      <td id=\"T_ee0ad_row4_col3\" class=\"data row4 col3\" >0.398514</td>\n",
       "      <td id=\"T_ee0ad_row4_col4\" class=\"data row4 col4\" >1.000000</td>\n",
       "      <td id=\"T_ee0ad_row4_col5\" class=\"data row4 col5\" >0.461632</td>\n",
       "      <td id=\"T_ee0ad_row4_col6\" class=\"data row4 col6\" >0.343331</td>\n",
       "    </tr>\n",
       "    <tr>\n",
       "      <th id=\"T_ee0ad_level0_row5\" class=\"row_heading level0 row5\" >CRKEVER</th>\n",
       "      <td id=\"T_ee0ad_row5_col0\" class=\"data row5 col0\" >0.181328</td>\n",
       "      <td id=\"T_ee0ad_row5_col1\" class=\"data row5 col1\" >0.453658</td>\n",
       "      <td id=\"T_ee0ad_row5_col2\" class=\"data row5 col2\" >0.099510</td>\n",
       "      <td id=\"T_ee0ad_row5_col3\" class=\"data row5 col3\" >0.186176</td>\n",
       "      <td id=\"T_ee0ad_row5_col4\" class=\"data row5 col4\" >0.461632</td>\n",
       "      <td id=\"T_ee0ad_row5_col5\" class=\"data row5 col5\" >1.000000</td>\n",
       "      <td id=\"T_ee0ad_row5_col6\" class=\"data row5 col6\" >0.476015</td>\n",
       "    </tr>\n",
       "    <tr>\n",
       "      <th id=\"T_ee0ad_level0_row6\" class=\"row_heading level0 row6\" >HEREVER</th>\n",
       "      <td id=\"T_ee0ad_row6_col0\" class=\"data row6 col0\" >0.151858</td>\n",
       "      <td id=\"T_ee0ad_row6_col1\" class=\"data row6 col1\" >0.398724</td>\n",
       "      <td id=\"T_ee0ad_row6_col2\" class=\"data row6 col2\" >0.082433</td>\n",
       "      <td id=\"T_ee0ad_row6_col3\" class=\"data row6 col3\" >0.152665</td>\n",
       "      <td id=\"T_ee0ad_row6_col4\" class=\"data row6 col4\" >0.343331</td>\n",
       "      <td id=\"T_ee0ad_row6_col5\" class=\"data row6 col5\" >0.476015</td>\n",
       "      <td id=\"T_ee0ad_row6_col6\" class=\"data row6 col6\" >1.000000</td>\n",
       "    </tr>\n",
       "  </tbody>\n",
       "</table>\n"
      ],
      "text/plain": [
       "<pandas.io.formats.style.Styler at 0x7286da699810>"
      ]
     },
     "execution_count": 9,
     "metadata": {},
     "output_type": "execute_result"
    }
   ],
   "source": [
    "corr = drug_used_correlation.corr(method='kendall')\n",
    "corr.style.background_gradient(cmap='coolwarm')"
   ]
  },
  {
   "cell_type": "markdown",
   "id": "4551c413",
   "metadata": {
    "papermill": {
     "duration": 0.010276,
     "end_time": "2023-04-10T03:31:22.048623",
     "exception": false,
     "start_time": "2023-04-10T03:31:22.038347",
     "status": "completed"
    },
    "tags": []
   },
   "source": [
    "# People who start drugs when they were minors"
   ]
  },
  {
   "cell_type": "code",
   "execution_count": 10,
   "id": "902ef5ca",
   "metadata": {
    "execution": {
     "iopub.execute_input": "2023-04-10T03:31:22.072876Z",
     "iopub.status.busy": "2023-04-10T03:31:22.072082Z",
     "iopub.status.idle": "2023-04-10T03:31:22.118509Z",
     "shell.execute_reply": "2023-04-10T03:31:22.116940Z"
    },
    "papermill": {
     "duration": 0.061797,
     "end_time": "2023-04-10T03:31:22.121414",
     "exception": false,
     "start_time": "2023-04-10T03:31:22.059617",
     "status": "completed"
    },
    "tags": []
   },
   "outputs": [
    {
     "name": "stdout",
     "output_type": "stream",
     "text": [
      "   Substance  Count\n",
      "2     ALCTRY  23155\n",
      "0     CIGTRY  16029\n",
      "3      MJAGE  14010\n",
      "4     COCAGE   1493\n",
      "1  METHAMAGE    733\n",
      "5     CRKAGE    300\n",
      "6     HERAGE    181\n"
     ]
    }
   ],
   "source": [
    "# fig, ax = plt.subplots()\n",
    "first_drug_used_date = drug_data[['CIGTRY', 'METHAMAGE', 'ALCTRY', 'MJAGE', 'COCAGE','CRKAGE', 'HERAGE']]\n",
    "first_drug_used_date.head(10)\n",
    "under_age = first_drug_used_date.query(\"CIGTRY < 18 | METHAMAGE < 18  | ALCTRY < 18  | MJAGE < 18  | COCAGE < 18  | CRKAGE < 18 | HERAGE < 18\")\n",
    "under_age_dictionary = {}\n",
    "\n",
    "minor_dataFrame = pd.DataFrame(under_age.columns, columns=['Substance'])\n",
    "minor_count = []\n",
    "#count the under age cells\n",
    "for a in under_age.columns:\n",
    "    all_under_age = under_age.filter(items =[a]).query(a + \"< 18\")\n",
    "    raws, columns = all_under_age.shape\n",
    "    minor_count.append(raws)\n",
    "#     under_age_dictionary['substance'] = a\n",
    "#     under_age_dictionary['count'] = raws\n",
    "minor_dataFrame['Count'] = minor_count\n",
    "#sort the data for better visualization\n",
    "minor_dataFrame = minor_dataFrame.sort_values(by=['Count'], ascending=False)\n",
    "print(minor_dataFrame)"
   ]
  },
  {
   "cell_type": "code",
   "execution_count": 11,
   "id": "51b5f3d2",
   "metadata": {
    "execution": {
     "iopub.execute_input": "2023-04-10T03:31:22.145467Z",
     "iopub.status.busy": "2023-04-10T03:31:22.144471Z",
     "iopub.status.idle": "2023-04-10T03:31:22.411067Z",
     "shell.execute_reply": "2023-04-10T03:31:22.410075Z"
    },
    "papermill": {
     "duration": 0.281379,
     "end_time": "2023-04-10T03:31:22.413579",
     "exception": false,
     "start_time": "2023-04-10T03:31:22.132200",
     "status": "completed"
    },
    "tags": []
   },
   "outputs": [
    {
     "data": {
      "image/png": "[encoded data removed]",
      "text/plain": [
       "<Figure size 640x480 with 1 Axes>"
      ]
     },
     "metadata": {},
     "output_type": "display_data"
    }
   ],
   "source": [
    "fig, ax = plt.subplots()\n",
    "ax = minor_dataFrame.plot(ax=ax, kind='bar', title = 'Substance Users as a Minor')\n",
    "ax.set_xticklabels(minor_dataFrame['Substance'], rotation=80)\n",
    "ax.set_xlabel(\"Substance\")\n",
    "ax.set_ylabel(\"Count\")\n",
    "ax.xaxis.label.set_color('blue')        #setting up X-axis label color to yellow\n",
    "ax.yaxis.label.set_color('blue') "
   ]
  },
  {
   "cell_type": "markdown",
   "id": "fd98c746",
   "metadata": {
    "papermill": {
     "duration": 0.01097,
     "end_time": "2023-04-10T03:31:22.436595",
     "exception": false,
     "start_time": "2023-04-10T03:31:22.425625",
     "status": "completed"
    },
    "tags": []
   },
   "source": [
    "# Eudcation\n",
    "\n",
    "By 'school' mean elementary school, junior high or middle school, high school, or a college or university.\n",
    "Please include home schooling as well. Do you go to school?"
   ]
  },
  {
   "cell_type": "code",
   "execution_count": 12,
   "id": "6492e2a3",
   "metadata": {
    "execution": {
     "iopub.execute_input": "2023-04-10T03:31:22.461590Z",
     "iopub.status.busy": "2023-04-10T03:31:22.460326Z",
     "iopub.status.idle": "2023-04-10T03:31:22.475023Z",
     "shell.execute_reply": "2023-04-10T03:31:22.473765Z"
    },
    "papermill": {
     "duration": 0.029775,
     "end_time": "2023-04-10T03:31:22.477559",
     "exception": false,
     "start_time": "2023-04-10T03:31:22.447784",
     "status": "completed"
    },
    "tags": []
   },
   "outputs": [
    {
     "data": {
      "text/html": [
       "<div>\n",
       "<style scoped>\n",
       "    .dataframe tbody tr th:only-of-type {\n",
       "        vertical-align: middle;\n",
       "    }\n",
       "\n",
       "    .dataframe tbody tr th {\n",
       "        vertical-align: top;\n",
       "    }\n",
       "\n",
       "    .dataframe thead th {\n",
       "        text-align: right;\n",
       "    }\n",
       "</style>\n",
       "<table border=\"1\" class=\"dataframe\">\n",
       "  <thead>\n",
       "    <tr style=\"text-align: right;\">\n",
       "      <th></th>\n",
       "      <th>ENRLCOLLST2</th>\n",
       "      <th>EDUSCHLGO</th>\n",
       "      <th>EDUSCHGRD2</th>\n",
       "      <th>EDUFULPAR</th>\n",
       "      <th>CATAGE</th>\n",
       "    </tr>\n",
       "  </thead>\n",
       "  <tbody>\n",
       "    <tr>\n",
       "      <th>0</th>\n",
       "      <td>5</td>\n",
       "      <td>2</td>\n",
       "      <td>99</td>\n",
       "      <td>99</td>\n",
       "      <td>3</td>\n",
       "    </tr>\n",
       "    <tr>\n",
       "      <th>1</th>\n",
       "      <td>5</td>\n",
       "      <td>2</td>\n",
       "      <td>99</td>\n",
       "      <td>99</td>\n",
       "      <td>4</td>\n",
       "    </tr>\n",
       "    <tr>\n",
       "      <th>2</th>\n",
       "      <td>5</td>\n",
       "      <td>2</td>\n",
       "      <td>99</td>\n",
       "      <td>99</td>\n",
       "      <td>2</td>\n",
       "    </tr>\n",
       "    <tr>\n",
       "      <th>3</th>\n",
       "      <td>5</td>\n",
       "      <td>2</td>\n",
       "      <td>99</td>\n",
       "      <td>99</td>\n",
       "      <td>4</td>\n",
       "    </tr>\n",
       "    <tr>\n",
       "      <th>4</th>\n",
       "      <td>5</td>\n",
       "      <td>2</td>\n",
       "      <td>99</td>\n",
       "      <td>99</td>\n",
       "      <td>2</td>\n",
       "    </tr>\n",
       "    <tr>\n",
       "      <th>5</th>\n",
       "      <td>5</td>\n",
       "      <td>2</td>\n",
       "      <td>99</td>\n",
       "      <td>99</td>\n",
       "      <td>4</td>\n",
       "    </tr>\n",
       "    <tr>\n",
       "      <th>6</th>\n",
       "      <td>5</td>\n",
       "      <td>2</td>\n",
       "      <td>99</td>\n",
       "      <td>99</td>\n",
       "      <td>2</td>\n",
       "    </tr>\n",
       "    <tr>\n",
       "      <th>7</th>\n",
       "      <td>5</td>\n",
       "      <td>2</td>\n",
       "      <td>99</td>\n",
       "      <td>99</td>\n",
       "      <td>4</td>\n",
       "    </tr>\n",
       "    <tr>\n",
       "      <th>8</th>\n",
       "      <td>5</td>\n",
       "      <td>1</td>\n",
       "      <td>2</td>\n",
       "      <td>1</td>\n",
       "      <td>1</td>\n",
       "    </tr>\n",
       "    <tr>\n",
       "      <th>9</th>\n",
       "      <td>1</td>\n",
       "      <td>1</td>\n",
       "      <td>9</td>\n",
       "      <td>1</td>\n",
       "      <td>2</td>\n",
       "    </tr>\n",
       "  </tbody>\n",
       "</table>\n",
       "</div>"
      ],
      "text/plain": [
       "   ENRLCOLLST2  EDUSCHLGO  EDUSCHGRD2  EDUFULPAR  CATAGE\n",
       "0            5          2          99         99       3\n",
       "1            5          2          99         99       4\n",
       "2            5          2          99         99       2\n",
       "3            5          2          99         99       4\n",
       "4            5          2          99         99       2\n",
       "5            5          2          99         99       4\n",
       "6            5          2          99         99       2\n",
       "7            5          2          99         99       4\n",
       "8            5          1           2          1       1\n",
       "9            1          1           9          1       2"
      ]
     },
     "execution_count": 12,
     "metadata": {},
     "output_type": "execute_result"
    }
   ],
   "source": [
    "education_data = drug_data[['ENRLCOLLST2', 'EDUSCHLGO', 'EDUSCHGRD2', 'EDUFULPAR', 'CATAGE']]\n",
    "education_data.head(10)"
   ]
  },
  {
   "cell_type": "code",
   "execution_count": 13,
   "id": "1124ca43",
   "metadata": {
    "execution": {
     "iopub.execute_input": "2023-04-10T03:31:22.503224Z",
     "iopub.status.busy": "2023-04-10T03:31:22.502037Z",
     "iopub.status.idle": "2023-04-10T03:31:22.897285Z",
     "shell.execute_reply": "2023-04-10T03:31:22.895982Z"
    },
    "papermill": {
     "duration": 0.410799,
     "end_time": "2023-04-10T03:31:22.899910",
     "exception": false,
     "start_time": "2023-04-10T03:31:22.489111",
     "status": "completed"
    },
    "tags": []
   },
   "outputs": [
    {
     "name": "stdout",
     "output_type": "stream",
     "text": [
      "<class 'pandas.core.frame.DataFrame'>\n",
      "   EDUSCHLGO  count\n",
      "1          2   8050\n",
      "0          1   1036\n",
      "4         98    431\n",
      "3         97     33\n",
      "2         11      1\n",
      "['orange', 'cadetblue', 'orange', 'orange', 'orange']\n"
     ]
    },
    {
     "data": {
      "text/plain": [
       "Text(0.5, 1.0, 'Which underaged (12-17) are going to School')"
      ]
     },
     "execution_count": 13,
     "metadata": {},
     "output_type": "execute_result"
    },
    {
     "data": {
      "image/png": "[encoded data removed]",
      "text/plain": [
       "<Figure size 640x480 with 1 Axes>"
      ]
     },
     "metadata": {},
     "output_type": "display_data"
    }
   ],
   "source": [
    "# plotting data\n",
    "print(type(education_data))\n",
    "school_data = education_data[['EDUSCHLGO','CATAGE']].query(\"EDUSCHLGO != 85 & EDUSCHLGO != 94 & CATAGE == 3\")\n",
    "plot_data = school_data.value_counts()\n",
    "plot_data = school_data.groupby(['EDUSCHLGO']).size().reset_index(name='count')\n",
    "#sort values for graph\n",
    "plot_order = plot_data.sort_values(by='count', ascending=False).EDUSCHLGO.values\n",
    "#sort values for dataframe(since seaborn plot dont follow the order of the dataframe)\n",
    "plot_data = plot_data.sort_values(by=['count'], ascending=False)\n",
    "print(plot_data.head())\n",
    "# want to highlight people who are going to school ( 1== yes)\n",
    "colors = ['cadetblue' if (x == 1) else 'orange' for x in plot_data.EDUSCHLGO]\n",
    "print(colors)\n",
    "plot = sns.barplot(x=plot_data['EDUSCHLGO'], y=plot_data['count'], palette=colors ,order=plot_order)\n",
    "plot.set_xticklabels(['No','Yes', 'Uncertain','Refused', 'NO ANSWER'], rotation=0)\n",
    "plot.set_title(\"Which underaged (12-17) are going to School\")"
   ]
  },
  {
   "cell_type": "markdown",
   "id": "35a75632",
   "metadata": {
    "papermill": {
     "duration": 0.012125,
     "end_time": "2023-04-10T03:31:22.924478",
     "exception": false,
     "start_time": "2023-04-10T03:31:22.912353",
     "status": "completed"
    },
    "tags": []
   },
   "source": [
    "Need to figure out how education got effected with recenet drug use\n"
   ]
  },
  {
   "cell_type": "code",
   "execution_count": 14,
   "id": "3f69fb3d",
   "metadata": {
    "execution": {
     "iopub.execute_input": "2023-04-10T03:31:22.951721Z",
     "iopub.status.busy": "2023-04-10T03:31:22.951188Z",
     "iopub.status.idle": "2023-04-10T03:31:22.985436Z",
     "shell.execute_reply": "2023-04-10T03:31:22.984083Z"
    },
    "papermill": {
     "duration": 0.051654,
     "end_time": "2023-04-10T03:31:22.988389",
     "exception": false,
     "start_time": "2023-04-10T03:31:22.936735",
     "status": "completed"
    },
    "tags": []
   },
   "outputs": [
    {
     "name": "stdout",
     "output_type": "stream",
     "text": [
      "<class 'pandas.core.frame.DataFrame'>\n",
      "       IRMJFM  IRALCFM  IRCRKFM  IRHALLUC30N  IRINHAL30N  IRMETHAM30N  \\\n",
      "47       91.0      1.0       91         91.0        91.0         91.0   \n",
      "48        5.0      4.0       91         93.0        91.0         91.0   \n",
      "104       2.0     93.0       91         91.0        91.0         91.0   \n",
      "109      93.0     93.0       91         93.0        93.0         91.0   \n",
      "231       1.0      7.0       91         91.0        93.0         91.0   \n",
      "...       ...      ...      ...          ...         ...          ...   \n",
      "57690    91.0      1.0       91         91.0        91.0         91.0   \n",
      "57801    91.0     91.0       91         91.0         1.5         91.0   \n",
      "57875    28.0      2.0       91         91.0        91.0         91.0   \n",
      "57893     1.0      1.0       91         93.0        91.0         91.0   \n",
      "57901    93.0      1.0       91         91.0        91.0         91.0   \n",
      "\n",
      "       IRTRQNM30FQ  IRPNRNM30FQ  IRSEDNM30FQ  IRSTMNM30FQ  EDUSCHLGO  IRCOCFM  \n",
      "47              91         91.0           91         91.0          1       91  \n",
      "48              91         91.0           91         91.0          1       91  \n",
      "104             91         91.0           91         91.0          1       91  \n",
      "109             91          6.0           91         91.0          1       91  \n",
      "231             91         93.0           91         93.0          1       91  \n",
      "...            ...          ...          ...          ...        ...      ...  \n",
      "57690           91         91.0           91         91.0          2       91  \n",
      "57801           91         91.0           91         91.0          1       91  \n",
      "57875           91         91.0           91         91.0          2       91  \n",
      "57893           93         91.0           91         91.0          2       91  \n",
      "57901           91         91.0           91         91.0          1       91  \n",
      "\n",
      "[1104 rows x 12 columns]\n"
     ]
    }
   ],
   "source": [
    "#finding out peple who are aged between 12-17 and not going to school and also used atleast one substance in past 30 days\n",
    "\n",
    "#IRMJFM - marjuwana , IRALCFM - alchohol, IICRKFM - cocain, IRHALLUC30N - HALLUCINOGEN, IRINHAL30N - inhalent, IRMETHAM30N - meth\n",
    "#IRTRQNM30FQ - TRANQUILIZERS, IRPNRNM30FQ - PAIN RELIEVERS,  IRSEDNM30FQ- sedatives , IRSTMNM30FQ - Stimulants\n",
    "#removed some school attending status due to outliers\n",
    "minor_recent_drug_used = drug_data[['IRMJFM', 'IRALCFM', 'IRCRKFM', 'IRHALLUC30N', 'IRINHAL30N', 'IRMETHAM30N',\n",
    "                            'IRTRQNM30FQ','IRPNRNM30FQ','IRSEDNM30FQ', 'IRSTMNM30FQ','EDUSCHLGO', 'CATAGE', 'IRCOCFM']].query(\n",
    "    \"(EDUSCHLGO == 1 | EDUSCHLGO == 2 | EDUSCHLGO == 98) & CATAGE == 1 & (IRMJFM <= 30 | IRALCFM <= 30 | IRCOCFM <= 30 | IRCRKFM <= 30 | IRHALLUC30N  <= 30 | IRINHAL30N <= 30 | IRMETHAM30N  <= 30 | IRTRQNM30FQ  <= 30 | IRPNRNM30FQ  <= 30 | IRSEDNM30FQ  <= 30 | IRSTMNM30FQ  <= 30)\")\n",
    "minor_recent_drug_used = minor_recent_drug_used.drop([\"CATAGE\"], axis = 1)\n",
    "print(type(minor_recent_drug_used))\n",
    "# find recently used \n",
    "\n",
    "\n",
    "print(minor_recent_drug_used)\n",
    "    "
   ]
  },
  {
   "cell_type": "code",
   "execution_count": 15,
   "id": "21431f2b",
   "metadata": {
    "execution": {
     "iopub.execute_input": "2023-04-10T03:31:23.016141Z",
     "iopub.status.busy": "2023-04-10T03:31:23.015443Z",
     "iopub.status.idle": "2023-04-10T03:31:23.024798Z",
     "shell.execute_reply": "2023-04-10T03:31:23.021819Z"
    },
    "papermill": {
     "duration": 0.027636,
     "end_time": "2023-04-10T03:31:23.028587",
     "exception": false,
     "start_time": "2023-04-10T03:31:23.000951",
     "status": "completed"
    },
    "tags": []
   },
   "outputs": [],
   "source": [
    "def findSubstanceFrequency(drugs_array):\n",
    "    for drug in drugs_array:\n",
    "        if drug <= 30:\n",
    "            return drug\n",
    "        \n",
    "#get the index from matching element in the series\n",
    "def findSubstanceName(drugs_array):\n",
    "    for drug in drugs_array:\n",
    "        if drug <= 30:\n",
    "            return drugs_array[drugs_array == drug].index[0]"
   ]
  },
  {
   "cell_type": "markdown",
   "id": "ee03ca1c",
   "metadata": {
    "papermill": {
     "duration": 0.012741,
     "end_time": "2023-04-10T03:31:23.060857",
     "exception": false,
     "start_time": "2023-04-10T03:31:23.048116",
     "status": "completed"
    },
    "tags": []
   },
   "source": [
    "Creating two columns to summarize the substance use in last 30 days"
   ]
  },
  {
   "cell_type": "code",
   "execution_count": 16,
   "id": "d18a5dbf",
   "metadata": {
    "execution": {
     "iopub.execute_input": "2023-04-10T03:31:23.097340Z",
     "iopub.status.busy": "2023-04-10T03:31:23.096020Z",
     "iopub.status.idle": "2023-04-10T03:31:23.345129Z",
     "shell.execute_reply": "2023-04-10T03:31:23.343163Z"
    },
    "papermill": {
     "duration": 0.267798,
     "end_time": "2023-04-10T03:31:23.347808",
     "exception": false,
     "start_time": "2023-04-10T03:31:23.080010",
     "status": "completed"
    },
    "tags": []
   },
   "outputs": [
    {
     "name": "stdout",
     "output_type": "stream",
     "text": [
      "     IRMJFM  IRALCFM  IRCRKFM  IRHALLUC30N  IRINHAL30N  IRMETHAM30N  \\\n",
      "47     91.0      1.0       91         91.0        91.0         91.0   \n",
      "48      5.0      4.0       91         93.0        91.0         91.0   \n",
      "104     2.0     93.0       91         91.0        91.0         91.0   \n",
      "109    93.0     93.0       91         93.0        93.0         91.0   \n",
      "231     1.0      7.0       91         91.0        93.0         91.0   \n",
      "237    93.0      1.0       91         91.0        91.0         91.0   \n",
      "240    29.0     10.0       91         93.0        93.0         91.0   \n",
      "283     2.0      7.0       91         91.0        91.0         91.0   \n",
      "499    10.0     93.0       91         91.0        91.0         91.0   \n",
      "557     2.0     93.0       91         91.0        91.0         91.0   \n",
      "\n",
      "     IRTRQNM30FQ  IRPNRNM30FQ  IRSEDNM30FQ  IRSTMNM30FQ  EDUSCHLGO  IRCOCFM  \\\n",
      "47            91         91.0           91         91.0          1       91   \n",
      "48            91         91.0           91         91.0          1       91   \n",
      "104           91         91.0           91         91.0          1       91   \n",
      "109           91          6.0           91         91.0          1       91   \n",
      "231           91         93.0           91         93.0          1       91   \n",
      "237           91         91.0           91         91.0          1       91   \n",
      "240           12         15.0           93         10.0          1       91   \n",
      "283           91         91.0           91         91.0          1       91   \n",
      "499           91         91.0           91         91.0          1       91   \n",
      "557           91         91.0           91         91.0          1       91   \n",
      "\n",
      "     used_frquency    used_drug  \n",
      "47             1.0      IRALCFM  \n",
      "48             5.0       IRMJFM  \n",
      "104            2.0       IRMJFM  \n",
      "109            6.0  IRPNRNM30FQ  \n",
      "231            1.0       IRMJFM  \n",
      "237            1.0      IRALCFM  \n",
      "240           29.0       IRMJFM  \n",
      "283            2.0       IRMJFM  \n",
      "499           10.0       IRMJFM  \n",
      "557            2.0       IRMJFM  \n",
      "     EDUSCHLGO  used_frquency    used_drug\n",
      "47           1            1.0      IRALCFM\n",
      "48           1            5.0       IRMJFM\n",
      "104          1            2.0       IRMJFM\n",
      "109          1            6.0  IRPNRNM30FQ\n",
      "231          1            1.0       IRMJFM\n",
      "237          1            1.0      IRALCFM\n",
      "240          1           29.0       IRMJFM\n",
      "283          1            2.0       IRMJFM\n",
      "499          1           10.0       IRMJFM\n",
      "557          1            2.0       IRMJFM\n"
     ]
    }
   ],
   "source": [
    "minor_recent_drug_used['used_frquency'] = minor_recent_drug_used.apply(lambda x: findSubstanceFrequency(x) ,axis=1)\n",
    "minor_recent_drug_used['used_drug'] = minor_recent_drug_used.apply(lambda x: findSubstanceName(x) ,axis=1)\n",
    "print(minor_recent_drug_used.head(10))\n",
    "\n",
    "#drop unwanted columns\n",
    "thisFilter = minor_recent_drug_used.filter(['IRMJFM' , 'IRALCFM',  'IRCRKFM',  'IRHALLUC30N',  'IRINHAL30N',  'IRMETHAM30N','IRTRQNM30FQ' , 'IRPNRNM30FQ' , 'IRSEDNM30FQ',  'IRSTMNM30FQ', 'IRCOCFM'])\n",
    "minor_recent_drug_used.drop(thisFilter, inplace=True, axis=1)\n",
    "# minor_recent_drug_used = minor_recent_drug_used.drop(, axis = 1)\n",
    "print(minor_recent_drug_used.head(10))"
   ]
  },
  {
   "cell_type": "code",
   "execution_count": 17,
   "id": "14e354c2",
   "metadata": {
    "execution": {
     "iopub.execute_input": "2023-04-10T03:31:23.374455Z",
     "iopub.status.busy": "2023-04-10T03:31:23.374030Z",
     "iopub.status.idle": "2023-04-10T03:31:23.395321Z",
     "shell.execute_reply": "2023-04-10T03:31:23.393910Z"
    },
    "papermill": {
     "duration": 0.037744,
     "end_time": "2023-04-10T03:31:23.397991",
     "exception": false,
     "start_time": "2023-04-10T03:31:23.360247",
     "status": "completed"
    },
    "tags": []
   },
   "outputs": [
    {
     "name": "stdout",
     "output_type": "stream",
     "text": [
      "<class 'pandas.core.frame.DataFrame'>\n",
      "Int64Index: 1104 entries, 47 to 57901\n",
      "Data columns (total 3 columns):\n",
      " #   Column         Non-Null Count  Dtype  \n",
      "---  ------         --------------  -----  \n",
      " 0   EDUSCHLGO      1104 non-null   int64  \n",
      " 1   used_frquency  1104 non-null   float64\n",
      " 2   used_drug      1104 non-null   object \n",
      "dtypes: float64(1), int64(1), object(1)\n",
      "memory usage: 34.5+ KB\n",
      "None\n",
      "   EDUSCHLGO    used_drug  count\n",
      "0          1      IRALCFM    372\n",
      "1          1  IRHALLUC30N      3\n",
      "2          1   IRINHAL30N     50\n",
      "3          1  IRMETHAM30N      4\n",
      "4          1       IRMJFM    481\n",
      "5          1  IRPNRNM30FQ     18\n",
      "6          1  IRSEDNM30FQ      3\n",
      "7          1  IRSTMNM30FQ      4\n",
      "8          1  IRTRQNM30FQ      1\n",
      "9          2      IRALCFM     51\n"
     ]
    }
   ],
   "source": [
    "#WRKDPSTWK Len : 2 WORK AT JOB LAST WEEK\n",
    "#PDEN10 Len : 1 POPULATION DENSITY 2010 - THREE LEVELS\n",
    "# group_by = minor_recent_drug_used.groupby(['EDUSCHLGO', 'IRMJFM', 'IRALCFM', 'IRCRKFM', 'IRHALLUC30N', 'IRINHAL30N', 'IRMETHAM30N',\n",
    "#                             'IRTRQNM30FQ','IRPNRNM30FQ','IRSEDNM30FQ', 'IRSTMNM30FQ', 'IRCOCFM']).size().reset_index(name='count')\n",
    "\n",
    "\n",
    "#Group by\n",
    "print(minor_recent_drug_used.info())\n",
    "minor_recent_drug_used = minor_recent_drug_used.groupby(['EDUSCHLGO', 'used_drug']).size().reset_index(name='count')\n",
    "print(minor_recent_drug_used.head(10))"
   ]
  },
  {
   "cell_type": "code",
   "execution_count": 18,
   "id": "b9f9691e",
   "metadata": {
    "execution": {
     "iopub.execute_input": "2023-04-10T03:31:23.425764Z",
     "iopub.status.busy": "2023-04-10T03:31:23.425287Z",
     "iopub.status.idle": "2023-04-10T03:31:23.449302Z",
     "shell.execute_reply": "2023-04-10T03:31:23.447753Z"
    },
    "papermill": {
     "duration": 0.041071,
     "end_time": "2023-04-10T03:31:23.451761",
     "exception": false,
     "start_time": "2023-04-10T03:31:23.410690",
     "status": "completed"
    },
    "tags": []
   },
   "outputs": [
    {
     "name": "stdout",
     "output_type": "stream",
     "text": [
      "             Attending  Not Attending  No Answer\n",
      "used_drug                                       \n",
      "IRALCFM          372.0           51.0        3.0\n",
      "IRHALLUC30N        3.0            NaN        NaN\n",
      "IRINHAL30N        50.0            5.0        NaN\n",
      "IRMETHAM30N        4.0            1.0        NaN\n",
      "IRMJFM           481.0          101.0        3.0\n",
      "IRPNRNM30FQ       18.0            3.0        NaN\n",
      "IRSEDNM30FQ        3.0            NaN        NaN\n",
      "IRSTMNM30FQ        4.0            1.0        NaN\n",
      "IRTRQNM30FQ        1.0            NaN        NaN\n"
     ]
    }
   ],
   "source": [
    "#create pivot table\n",
    "pivot = pd.pivot_table(data=minor_recent_drug_used, index=['used_drug'], columns=['EDUSCHLGO'] ,values='count')\n",
    "#renaming column names\n",
    "pivot.columns = ['Attending', 'Not Attending', 'No Answer']\n",
    "\n",
    "print(pivot)\n",
    "# pivot.columns = ['Population > Million', 'Popultion < Million', 'Not in a Segment']\n",
    "# print(pivot.columns)"
   ]
  },
  {
   "cell_type": "code",
   "execution_count": 19,
   "id": "38e1d928",
   "metadata": {
    "execution": {
     "iopub.execute_input": "2023-04-10T03:31:23.479693Z",
     "iopub.status.busy": "2023-04-10T03:31:23.478955Z",
     "iopub.status.idle": "2023-04-10T03:31:23.832892Z",
     "shell.execute_reply": "2023-04-10T03:31:23.831461Z"
    },
    "papermill": {
     "duration": 0.371587,
     "end_time": "2023-04-10T03:31:23.836248",
     "exception": false,
     "start_time": "2023-04-10T03:31:23.464661",
     "status": "completed"
    },
    "tags": []
   },
   "outputs": [
    {
     "data": {
      "text/plain": [
       "Text(0, 0.5, 'Count')"
      ]
     },
     "execution_count": 19,
     "metadata": {},
     "output_type": "execute_result"
    },
    {
     "data": {
      "image/png": "[encoded data removed]",
      "text/plain": [
       "<Figure size 640x480 with 1 Axes>"
      ]
     },
     "metadata": {},
     "output_type": "display_data"
    }
   ],
   "source": [
    "ax = pivot.plot( kind='bar',title='Last 30 days substance use of minors Vs attending school')\n",
    "ax.set_xticklabels(['Alcohol','Hallucination','Inhalents', 'Meth', 'Marujana','PAIN RELIEVERS', 'SEDATIVES', 'STIMULANTS','TRANQUILIZERS'], rotation=75)\n",
    "ax.set_xlabel(\"substance used\")\n",
    "ax.set_ylabel(\"Count\")"
   ]
  },
  {
   "cell_type": "markdown",
   "id": "bf625d64",
   "metadata": {
    "papermill": {
     "duration": 0.013791,
     "end_time": "2023-04-10T03:31:23.864774",
     "exception": false,
     "start_time": "2023-04-10T03:31:23.850983",
     "status": "completed"
    },
    "tags": []
   },
   "source": [
    "# Employment Vs GeoGraphic"
   ]
  },
  {
   "cell_type": "code",
   "execution_count": 20,
   "id": "04d70571",
   "metadata": {
    "execution": {
     "iopub.execute_input": "2023-04-10T03:31:23.895047Z",
     "iopub.status.busy": "2023-04-10T03:31:23.894637Z",
     "iopub.status.idle": "2023-04-10T03:31:23.932764Z",
     "shell.execute_reply": "2023-04-10T03:31:23.930722Z"
    },
    "papermill": {
     "duration": 0.056855,
     "end_time": "2023-04-10T03:31:23.935762",
     "exception": false,
     "start_time": "2023-04-10T03:31:23.878907",
     "status": "completed"
    },
    "tags": []
   },
   "outputs": [
    {
     "name": "stdout",
     "output_type": "stream",
     "text": [
      "   WRKDPSTWK  PDEN10\n",
      "0          2       2\n",
      "1          2       1\n",
      "2          1       2\n",
      "3          2       1\n",
      "4          2       1\n",
      "5          2       1\n",
      "6          1       1\n",
      "7          1       2\n",
      "8         99       2\n",
      "9          1       1\n",
      "   WRKDPSTWK  PDEN10  count\n",
      "0          1       1  11631\n",
      "1          1       2  14155\n",
      "2          1       3   1646\n",
      "3          2       1   9630\n",
      "4          2       2  11423\n",
      "5          2       3   1741\n",
      "6         98       1    873\n",
      "7         98       2   1025\n",
      "8         98       3     74\n",
      "9         99       1   2317\n",
      "PDEN10         1      2     3\n",
      "WRKDPSTWK                    \n",
      "1          11631  14155  1646\n",
      "2           9630  11423  1741\n",
      "98           873   1025    74\n",
      "99          2317   2720   408\n",
      "Index(['Population > Million', 'Popultion < Million', 'Not in a Segment'], dtype='object')\n"
     ]
    }
   ],
   "source": [
    "employment_data = drug_data[['WRKSTATWK2', 'WRKDPSTWK', 'WRKHADJOB', 'COUTYP4', 'WRKDPSTYR', 'WRKHADJOB','IRSEX', 'IRMARIT', 'CATAG7','HEALTH2', 'NEWRACE2']]\n",
    "employment_data_plot = drug_data[['WRKDPSTWK', 'PDEN10']].query(\"WRKDPSTWK == 1 | WRKDPSTWK == 2 | WRKDPSTWK == 98 | WRKDPSTWK == 99\")\n",
    "\n",
    "print(employment_data_plot.head(10))\n",
    "#employment_data_plot['WRKDPSTWK'].unique()\n",
    "#employment_data_plot['PDEN10'].unique()\n",
    "group_by = employment_data_plot.groupby(['WRKDPSTWK','PDEN10']).size().reset_index(name='count')\n",
    "print(group_by.head(10))\n",
    "pivot = pd.pivot_table(data=group_by, index=['WRKDPSTWK'], columns=['PDEN10'] ,values='count')\n",
    "print(pivot)\n",
    "pivot.columns = ['Population > Million', 'Popultion < Million', 'Not in a Segment']\n",
    "print(pivot.columns)"
   ]
  },
  {
   "cell_type": "code",
   "execution_count": 21,
   "id": "22daa980",
   "metadata": {
    "execution": {
     "iopub.execute_input": "2023-04-10T03:31:23.966239Z",
     "iopub.status.busy": "2023-04-10T03:31:23.965808Z",
     "iopub.status.idle": "2023-04-10T03:31:24.264189Z",
     "shell.execute_reply": "2023-04-10T03:31:24.262929Z"
    },
    "papermill": {
     "duration": 0.316632,
     "end_time": "2023-04-10T03:31:24.266783",
     "exception": false,
     "start_time": "2023-04-10T03:31:23.950151",
     "status": "completed"
    },
    "tags": []
   },
   "outputs": [
    {
     "data": {
      "text/plain": [
       "Text(0, 0.5, 'Count')"
      ]
     },
     "execution_count": 21,
     "metadata": {},
     "output_type": "execute_result"
    },
    {
     "data": {
      "image/png": "[encoded data removed]",
      "text/plain": [
       "<Figure size 640x480 with 1 Axes>"
      ]
     },
     "metadata": {},
     "output_type": "display_data"
    }
   ],
   "source": [
    "#WRKDPSTWK Len : 2 WORK AT JOB LAST WEEK\n",
    "#PDEN10 Len : 1 POPULATION DENSITY 2010 - THREE LEVELS\n",
    "ax = pivot.plot( kind='bar',title='Work At Last Week')\n",
    "ax.set_xticklabels(['Yes','No','NO ANSWER', 'SKIP'], rotation=0)\n",
    "ax.set_xlabel(\"Work At Last Week\")\n",
    "ax.set_ylabel(\"Count\")"
   ]
  },
  {
   "cell_type": "markdown",
   "id": "dd701f34",
   "metadata": {
    "papermill": {
     "duration": 0.014292,
     "end_time": "2023-04-10T03:31:24.295719",
     "exception": false,
     "start_time": "2023-04-10T03:31:24.281427",
     "status": "completed"
    },
    "tags": []
   },
   "source": [
    "# Social Environment\n"
   ]
  },
  {
   "cell_type": "code",
   "execution_count": 22,
   "id": "e5dff364",
   "metadata": {
    "execution": {
     "iopub.execute_input": "2023-04-10T03:31:24.327222Z",
     "iopub.status.busy": "2023-04-10T03:31:24.326775Z",
     "iopub.status.idle": "2023-04-10T03:31:24.332748Z",
     "shell.execute_reply": "2023-04-10T03:31:24.331801Z"
    },
    "papermill": {
     "duration": 0.024965,
     "end_time": "2023-04-10T03:31:24.335128",
     "exception": false,
     "start_time": "2023-04-10T03:31:24.310163",
     "status": "completed"
    },
    "tags": []
   },
   "outputs": [],
   "source": [
    "# religious data\n",
    "#SNRLGSVC1 Len : 2 PAST 12 MOS, HOW MANY RELIG. SERVICES\n",
    "mental_health_data = drug_data[['SNRLGSVC']]"
   ]
  },
  {
   "cell_type": "markdown",
   "id": "da271427",
   "metadata": {
    "papermill": {
     "duration": 0.0141,
     "end_time": "2023-04-10T03:31:24.363590",
     "exception": false,
     "start_time": "2023-04-10T03:31:24.349490",
     "status": "completed"
    },
    "tags": []
   },
   "source": [
    "# Mental Health"
   ]
  },
  {
   "cell_type": "code",
   "execution_count": 23,
   "id": "dd4ef091",
   "metadata": {
    "execution": {
     "iopub.execute_input": "2023-04-10T03:31:24.394229Z",
     "iopub.status.busy": "2023-04-10T03:31:24.393777Z",
     "iopub.status.idle": "2023-04-10T03:31:24.400636Z",
     "shell.execute_reply": "2023-04-10T03:31:24.399127Z"
    },
    "papermill": {
     "duration": 0.025381,
     "end_time": "2023-04-10T03:31:24.403230",
     "exception": false,
     "start_time": "2023-04-10T03:31:24.377849",
     "status": "completed"
    },
    "tags": []
   },
   "outputs": [],
   "source": [
    "mental_health_data = drug_data[['SNRLGSVC']]"
   ]
  }
 ],
 "metadata": {
  "kernelspec": {
   "display_name": "Python 3",
   "language": "python",
   "name": "python3"
  },
  "language_info": {
   "codemirror_mode": {
    "name": "ipython",
    "version": 3
   },
   "file_extension": ".py",
   "mimetype": "text/x-python",
   "name": "python",
   "nbconvert_exporter": "python",
   "pygments_lexer": "ipython3",
   "version": "3.7.12"
  },
  "papermill": {
   "default_parameters": {},
   "duration": 44.589995,
   "end_time": "2023-04-10T03:31:25.341780",
   "environment_variables": {},
   "exception": null,
   "input_path": "__notebook__.ipynb",
   "output_path": "__notebook__.ipynb",
   "parameters": {},
   "start_time": "2023-04-10T03:30:40.751785",
   "version": "2.4.0"
  }
 },
 "nbformat": 4,
 "nbformat_minor": 5
}
